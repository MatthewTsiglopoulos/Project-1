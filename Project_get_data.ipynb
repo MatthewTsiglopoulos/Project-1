{
 "cells": [
  {
   "cell_type": "code",
   "execution_count": null,
   "id": "86340972-be6b-4b9a-86fc-03f3b0ff5eef",
   "metadata": {},
   "outputs": [],
   "source": [
    "#Imports"
   ]
  },
  {
   "cell_type": "code",
   "execution_count": null,
   "id": "a553eb90-286d-4c13-bd8d-64959c3cac2d",
   "metadata": {},
   "outputs": [],
   "source": [
    "#NASDAQ Key/API"
   ]
  },
  {
   "cell_type": "code",
   "execution_count": null,
   "id": "7079951d-f0d2-47a5-928f-3141d9e47fd4",
   "metadata": {},
   "outputs": [],
   "source": [
    "#Download Daily Price Data for \n",
    "    #META, AMAZON, (Palmy)\n",
    "    #MICROSOFT, ALPHABET (matt)\n",
    "    #APPLE & NDX 100 (Josh)"
   ]
  },
  {
   "cell_type": "code",
   "execution_count": null,
   "id": "a3541d00-6230-4b74-a81a-64dbde1f7df1",
   "metadata": {},
   "outputs": [],
   "source": [
    "#Drop Nulls. Remove high, low, open data. "
   ]
  },
  {
   "cell_type": "code",
   "execution_count": null,
   "id": "80d7b5f1-706a-4734-b167-93da83190e67",
   "metadata": {},
   "outputs": [],
   "source": [
    "#Generate Daily returns"
   ]
  },
  {
   "cell_type": "code",
   "execution_count": null,
   "id": "70fe90c3-9f71-4398-95d9-cbd23b44c83e",
   "metadata": {},
   "outputs": [],
   "source": [
    "# Plot Daily returns on hvplot.line"
   ]
  },
  {
   "cell_type": "code",
   "execution_count": null,
   "id": "877f3180-0c20-4308-9166-1907cea089ae",
   "metadata": {},
   "outputs": [],
   "source": [
    "# Calculate Standard deviation and Plot"
   ]
  },
  {
   "cell_type": "code",
   "execution_count": null,
   "id": "876c6373-0a6b-4f63-9759-b13c1ea419f0",
   "metadata": {},
   "outputs": [],
   "source": [
    "#Calculate Volatility (Variance) and Plot"
   ]
  }
 ],
 "metadata": {
  "kernelspec": {
   "display_name": "Python 3 (ipykernel)",
   "language": "python",
   "name": "python3"
  },
  "language_info": {
   "codemirror_mode": {
    "name": "ipython",
    "version": 3
   },
   "file_extension": ".py",
   "mimetype": "text/x-python",
   "name": "python",
   "nbconvert_exporter": "python",
   "pygments_lexer": "ipython3",
   "version": "3.7.13"
  }
 },
 "nbformat": 4,
 "nbformat_minor": 5
}
